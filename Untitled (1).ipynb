{
 "cells": [
  {
   "cell_type": "code",
   "execution_count": 3,
   "id": "cc911988-c30c-4134-8c51-a47f3da60697",
   "metadata": {
    "scrolled": true
   },
   "outputs": [
    {
     "name": "stdout",
     "output_type": "stream",
     "text": [
      "      name         subject  class   fees  fine\n",
      "0     Arun           Maths      9   9000   400\n",
      "1   Aniket  Social Science     10  12000   600\n",
      "2   Ishita         English     11  15000     0\n",
      "3  Pranjal         Science     12  18000  1000\n",
      "4  Vinayak        Computer     12  18000   500\n"
     ]
    }
   ],
   "source": [
    "import numpy as np\n",
    "import pandas as pd \n",
    "df = pd.read_csv('student_data2.csv')\n",
    "print(df.to_string())"
   ]
  },
  {
   "cell_type": "code",
   "execution_count": 4,
   "id": "778de16a-7188-4c3a-ab33-91d2c2aabab3",
   "metadata": {},
   "outputs": [
    {
     "name": "stdout",
     "output_type": "stream",
     "text": [
      "          class          fees         fine\n",
      "count   5.00000      5.000000     5.000000\n",
      "mean   10.80000  14400.000000   500.000000\n",
      "std     1.30384   3911.521443   360.555128\n",
      "min     9.00000   9000.000000     0.000000\n",
      "25%    10.00000  12000.000000   400.000000\n",
      "50%    11.00000  15000.000000   500.000000\n",
      "75%    12.00000  18000.000000   600.000000\n",
      "max    12.00000  18000.000000  1000.000000\n"
     ]
    }
   ],
   "source": [
    "print(df.describe().to_string())"
   ]
  },
  {
   "cell_type": "code",
   "execution_count": 7,
   "id": "5a7fc13f-7adc-47c4-8278-81c0127c3d52",
   "metadata": {},
   "outputs": [
    {
     "name": "stdout",
     "output_type": "stream",
     "text": [
      "10200.0\n"
     ]
    }
   ],
   "source": [
    "#Percenriles\n",
    "import numpy as np\n",
    "\n",
    "fees = df[\"fees\"]\n",
    "percentile10 = np.percentile(fees, 10)\n",
    "print(percentile10)"
   ]
  },
  {
   "cell_type": "code",
   "execution_count": 9,
   "id": "f3e044dd-04fc-4f74-936d-41242f8dbe73",
   "metadata": {},
   "outputs": [
    {
     "name": "stdout",
     "output_type": "stream",
     "text": [
      "Mean Value: 14400.0\n"
     ]
    }
   ],
   "source": [
    "# Calculate and print mean value\n",
    "mean_value=df['fees'].mean()\n",
    "print('Mean Value: '+str(mean_value))\n"
   ]
  },
  {
   "cell_type": "code",
   "execution_count": 11,
   "id": "d0fa3ffb-de3b-43c6-8095-f88d7378dac5",
   "metadata": {},
   "outputs": [
    {
     "name": "stdout",
     "output_type": "stream",
     "text": [
      "Median Value: 500.0\n"
     ]
    }
   ],
   "source": [
    "# Calculate and print median value\n",
    "median_value=df['fine'].median()\n",
    "print('Median Value: '+str(median_value))\n"
   ]
  },
  {
   "cell_type": "code",
   "execution_count": 12,
   "id": "141b9600-f9e1-40e6-ac0b-2e78460a12bd",
   "metadata": {},
   "outputs": [
    {
     "name": "stdout",
     "output_type": "stream",
     "text": [
      "Mode Value: 0    18000\n",
      "Name: fees, dtype: int64\n"
     ]
    }
   ],
   "source": [
    "# Calculate and print mode value\n",
    "mode_value=df['fees'].mode()\n",
    "print('Mode Value: '+str(mode_value))\n"
   ]
  },
  {
   "cell_type": "code",
   "execution_count": 13,
   "id": "c6bf180d-b015-4469-a96d-3902ef3826cc",
   "metadata": {},
   "outputs": [
    {
     "name": "stdout",
     "output_type": "stream",
     "text": [
      "Minimum Value: 9000\n"
     ]
    }
   ],
   "source": [
    "# Calculate and print min value\n",
    "min_value=df['fees'].min()\n",
    "print('Minimum Value: '+str(min_value))"
   ]
  },
  {
   "cell_type": "code",
   "execution_count": 14,
   "id": "32e26b49-55f6-474b-8a2a-ae921a85dd63",
   "metadata": {},
   "outputs": [
    {
     "name": "stdout",
     "output_type": "stream",
     "text": [
      "Maximum Value: 18000\n"
     ]
    }
   ],
   "source": [
    "# Calculate and print max value\n",
    "max_value=df['fees'].max()\n",
    "print('Maximum Value: '+str(max_value))\n"
   ]
  },
  {
   "cell_type": "code",
   "execution_count": 15,
   "id": "5db356c2-936b-4df3-b039-536f17ac0066",
   "metadata": {},
   "outputs": [
    {
     "name": "stdout",
     "output_type": "stream",
     "text": [
      "Standard Deviation Value: 3911.521443121589\n"
     ]
    }
   ],
   "source": [
    "# Calculate and print standard deviation value\n",
    "std_value=df['fees'].std()\n",
    "print('Standard Deviation Value: '+str(std_value))"
   ]
  },
  {
   "cell_type": "code",
   "execution_count": 16,
   "id": "e52b0ed0-8b74-483f-a863-2ac136627dd7",
   "metadata": {},
   "outputs": [
    {
     "name": "stdout",
     "output_type": "stream",
     "text": [
      "Variance Value: 15300000.0\n"
     ]
    }
   ],
   "source": [
    "# Calculate and print variance value\n",
    "var_value=df['fees'].var()\n",
    "print('Variance Value: '+str(var_value))\n"
   ]
  },
  {
   "cell_type": "code",
   "execution_count": 20,
   "id": "1c2b264d-7ddc-4aab-ae31-697dcfdeac4f",
   "metadata": {},
   "outputs": [
    {
     "name": "stdout",
     "output_type": "stream",
     "text": [
      "[[1.         0.97489441]\n",
      " [0.97489441 1.        ]]\n"
     ]
    }
   ],
   "source": [
    " \n",
    "print(np.corrcoef(x, y))\n"
   ]
  },
  {
   "cell_type": "code",
   "execution_count": 22,
   "id": "01e08c55-c7c3-427f-bb0e-5a2ad647c646",
   "metadata": {},
   "outputs": [
    {
     "name": "stdout",
     "output_type": "stream",
     "text": [
      "Correlations between fees and fine\n",
      " [[1.         0.31907672]\n",
      " [0.31907672 1.        ]]\n"
     ]
    }
   ],
   "source": [
    "# correaltions between age and sex columns\n",
    "c = np.corrcoef(df['fees'],df['fine'])\n",
    "print('Correlations between fees and fine\\n',c)\n"
   ]
  },
  {
   "cell_type": "code",
   "execution_count": 26,
   "id": "4f6b7fc9-34d7-4333-99de-74da9f72bf9a",
   "metadata": {},
   "outputs": [
    {
     "name": "stdout",
     "output_type": "stream",
     "text": [
      "Correlation matrix:\n",
      "[[1.         0.99023025 0.66184607]\n",
      " [0.99023025 1.         0.75991121]\n",
      " [0.66184607 0.75991121 1.        ]]\n"
     ]
    }
   ],
   "source": [
    "data_matrix = np.random.rand(3, 3)\n",
    "correlation_matrix = np.corrcoef(data_matrix)\n",
    "print(\"Correlation matrix:\")\n",
    "print(correlation_matrix)"
   ]
  }
 ],
 "metadata": {
  "kernelspec": {
   "display_name": "Python 3 (ipykernel)",
   "language": "python",
   "name": "python3"
  },
  "language_info": {
   "codemirror_mode": {
    "name": "ipython",
    "version": 3
   },
   "file_extension": ".py",
   "mimetype": "text/x-python",
   "name": "python",
   "nbconvert_exporter": "python",
   "pygments_lexer": "ipython3",
   "version": "3.12.2"
  }
 },
 "nbformat": 4,
 "nbformat_minor": 5
}
